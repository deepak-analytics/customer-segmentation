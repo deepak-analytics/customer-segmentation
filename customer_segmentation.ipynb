{
 "cells": [
  {
   "cell_type": "markdown",
   "id": "b9de4e01",
   "metadata": {},
   "source": [
    "# 🎯 Customer Segmentation using KMeans\n",
    "This project segments customers into clusters using their annual income and spending score. KMeans clustering helps businesses understand customer behavior and target marketing more effectively."
   ]
  },
  {
   "cell_type": "code",
   "execution_count": null,
   "id": "3ece19c6",
   "metadata": {},
   "outputs": [],
   "source": [
    "import pandas as pd\n",
    "import matplotlib.pyplot as plt\n",
    "from sklearn.cluster import KMeans\n",
    "import seaborn as sns"
   ]
  },
  {
   "cell_type": "code",
   "execution_count": null,
   "id": "d74e24cd",
   "metadata": {},
   "outputs": [],
   "source": [
    "df = pd.read_csv('customer_data.csv')\n",
    "df.head()"
   ]
  },
  {
   "cell_type": "code",
   "execution_count": null,
   "id": "0ea27057",
   "metadata": {},
   "outputs": [],
   "source": [
    "# Visualize Spending Score vs Income\n",
    "plt.figure(figsize=(8, 5))\n",
    "sns.scatterplot(data=df, x='Annual Income (k$)', y='Spending Score (1-100)')\n",
    "plt.title('Customer Distribution')\n",
    "plt.show()"
   ]
  },
  {
   "cell_type": "code",
   "execution_count": null,
   "id": "2070c124",
   "metadata": {},
   "outputs": [],
   "source": [
    "# Apply KMeans Clustering\n",
    "X = df[['Annual Income (k$)', 'Spending Score (1-100)']]\n",
    "kmeans = KMeans(n_clusters=5, random_state=42)\n",
    "df['Cluster'] = kmeans.fit_predict(X)"
   ]
  },
  {
   "cell_type": "code",
   "execution_count": null,
   "id": "759a32ee",
   "metadata": {},
   "outputs": [],
   "source": [
    "# Plot Clusters\n",
    "plt.figure(figsize=(8, 5))\n",
    "sns.scatterplot(data=df, x='Annual Income (k$)', y='Spending Score (1-100)', hue='Cluster', palette='tab10')\n",
    "plt.title('Customer Segments')\n",
    "plt.show()"
   ]
  }
 ],
 "metadata": {},
 "nbformat": 4,
 "nbformat_minor": 5
}
